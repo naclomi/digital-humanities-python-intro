{
 "cells": [
  {
   "cell_type": "code",
   "execution_count": 29,
   "id": "36a9cbb7-6e07-4116-a1bc-15cfd24eb7bd",
   "metadata": {},
   "outputs": [],
   "source": [
    "# Load our text into the variable \"text\"\n",
    "file = open(\"Jonathan Swift - A Modest Proposal.txt\")\n",
    "text = file.read()\n",
    "file.close()"
   ]
  },
  {
   "cell_type": "code",
   "execution_count": 30,
   "id": "6fbc143c-c8fe-436a-a87d-aac30e22b5c2",
   "metadata": {},
   "outputs": [],
   "source": [
    "# Generate a copy of the text with all non-alphabetic\n",
    "# characters filtered out, and all alphabetic characters\n",
    "# made lowercase\n",
    "filtered_text = \"\"\n",
    "for character in text:\n",
    "    if character.isalpha() or character.isspace():\n",
    "        filtered_text = filtered_text + character\n",
    "lowercase_filtered_text = filtered_text.lower()\n"
   ]
  },
  {
   "cell_type": "code",
   "execution_count": 31,
   "id": "3c880697-77d7-45e1-87c2-3c1fb78c58bd",
   "metadata": {},
   "outputs": [
    {
     "name": "stdout",
     "output_type": "stream",
     "text": [
      "0.319764177428411\n"
     ]
    }
   ],
   "source": [
    "# Split the text into an ordered list of tokens\n",
    "tokens = lowercase_filtered_text.split()\n",
    "\n",
    "# Use the set() function to make a list of UNIQUE tokens\n",
    "# in the text\n",
    "types = set(tokens)\n",
    "\n",
    "# Calculate and display the type-token ratio\n",
    "type_token_ratio = len(types) / len(tokens)\n",
    "print(type_token_ratio)"
   ]
  },
  {
   "cell_type": "code",
   "execution_count": null,
   "id": "72da5edd-69da-4923-9772-131a4fe342ab",
   "metadata": {},
   "outputs": [],
   "source": []
  }
 ],
 "metadata": {
  "kernelspec": {
   "display_name": "Python 3 (ipykernel)",
   "language": "python",
   "name": "python3"
  },
  "language_info": {
   "codemirror_mode": {
    "name": "ipython",
    "version": 3
   },
   "file_extension": ".py",
   "mimetype": "text/x-python",
   "name": "python",
   "nbconvert_exporter": "python",
   "pygments_lexer": "ipython3",
   "version": "3.10.13"
  }
 },
 "nbformat": 4,
 "nbformat_minor": 5
}
