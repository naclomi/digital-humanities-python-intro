{
 "cells": [
  {
   "cell_type": "code",
   "execution_count": null,
   "metadata": {},
   "outputs": [],
   "source": [
    "import pandas\n",
    "from textblob import TextBlob\n",
    " \n",
    "print(\"Loading unsorted tweets\")\n",
    "dataframe = pandas.read_excel(\"unsorted_tweets.xlsx\")\n",
    "\n",
    "print(\"Creating 'tone' column\")\n",
    "dataframe['tone'] = 0\n",
    "\n",
    "print(\"Doing sentiment analysis\")\n",
    "for rowNumber in dataframe.index:\n",
    "    tweet_text = str(dataframe.at[rowNumber, 'text'])\n",
    "    tweet_tone = TextBlob(tweet_text).sentiment.polarity\n",
    "    dataframe.at[rowNumber, 'tone'] = tweet_tone\n",
    "\n",
    "print(\"Sorting tweets by tone\")\n",
    "sorted_dataframe = dataframe.sort_values(by='tone')\n",
    "\n",
    "print(\"Saving sorted tweets\")\n",
    "sorted_dataframe.to_excel(\"sorted_by_vibe.xlsx\")\n"
   ]
  }
 ],
 "metadata": {
  "kernelspec": {
   "display_name": "Python 3",
   "language": "python",
   "name": "python3"
  },
  "language_info": {
   "codemirror_mode": {
    "name": "ipython",
    "version": 3
   },
   "file_extension": ".py",
   "mimetype": "text/x-python",
   "name": "python",
   "nbconvert_exporter": "python",
   "pygments_lexer": "ipython3",
   "version": "3.8.10"
  },
  "varInspector": {
   "cols": {
    "lenName": 16,
    "lenType": 16,
    "lenVar": 40
   },
   "kernels_config": {
    "python": {
     "delete_cmd_postfix": "",
     "delete_cmd_prefix": "del ",
     "library": "var_list.py",
     "varRefreshCmd": "print(var_dic_list())"
    },
    "r": {
     "delete_cmd_postfix": ") ",
     "delete_cmd_prefix": "rm(",
     "library": "var_list.r",
     "varRefreshCmd": "cat(var_dic_list()) "
    }
   },
   "types_to_exclude": [
    "module",
    "function",
    "builtin_function_or_method",
    "instance",
    "_Feature"
   ],
   "window_display": false
  }
 },
 "nbformat": 4,
 "nbformat_minor": 4
}
